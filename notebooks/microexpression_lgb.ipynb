{
 "cells": [
  {
   "cell_type": "code",
   "execution_count": 4,
   "metadata": {},
   "outputs": [],
   "source": [
    "import numpy as np\n",
    "import pandas as pd\n",
    "import lightgbm as lgb"
   ]
  },
  {
   "cell_type": "code",
   "execution_count": 5,
   "metadata": {},
   "outputs": [],
   "source": [
    "csv = pd.read_csv('../lie_detector/datasets/raw/TrialData/Annotation/All_Gestures_Deceptive and Truthful.csv')"
   ]
  },
  {
   "cell_type": "code",
   "execution_count": 8,
   "metadata": {},
   "outputs": [
    {
     "data": {
      "text/plain": [
       "Index(['id', 'OtherGestures', 'Smile', 'Laugh', 'Scowl',\n",
       "       'otherEyebrowMovement', 'Frown', 'Raise', 'OtherEyeMovements',\n",
       "       'Close-R', 'X-Open', 'Close-BE', 'gazeInterlocutor', 'gazeDown',\n",
       "       'gazeUp', 'otherGaze', 'gazeSide', 'openMouth', 'closeMouth',\n",
       "       'lipsDown', 'lipsUp', 'lipsRetracted', 'lipsProtruded', 'SideTurn',\n",
       "       'downR', 'sideTilt', 'backHead', 'otherHeadM', 'sideTurnR', 'sideTiltR',\n",
       "       'waggle', 'forwardHead', 'downRHead', 'singleHand', 'bothHands',\n",
       "       'otherHandM', 'complexHandM', 'sidewaysHand', 'downHands', 'upHands',\n",
       "       'class'],\n",
       "      dtype='object')"
      ]
     },
     "execution_count": 8,
     "metadata": {},
     "output_type": "execute_result"
    }
   ],
   "source": [
    "csv.columns"
   ]
  },
  {
   "cell_type": "code",
   "execution_count": 9,
   "metadata": {},
   "outputs": [],
   "source": [
    "y = csv['class'].map(lambda x: 1 if x == 'deceptive' else 0)\n",
    "X = csv.drop(['id', 'class'], axis=1)"
   ]
  },
  {
   "cell_type": "code",
   "execution_count": 10,
   "metadata": {},
   "outputs": [
    {
     "data": {
      "text/html": [
       "<div>\n",
       "<style scoped>\n",
       "    .dataframe tbody tr th:only-of-type {\n",
       "        vertical-align: middle;\n",
       "    }\n",
       "\n",
       "    .dataframe tbody tr th {\n",
       "        vertical-align: top;\n",
       "    }\n",
       "\n",
       "    .dataframe thead th {\n",
       "        text-align: right;\n",
       "    }\n",
       "</style>\n",
       "<table border=\"1\" class=\"dataframe\">\n",
       "  <thead>\n",
       "    <tr style=\"text-align: right;\">\n",
       "      <th></th>\n",
       "      <th>OtherGestures</th>\n",
       "      <th>Smile</th>\n",
       "      <th>Laugh</th>\n",
       "      <th>Scowl</th>\n",
       "      <th>otherEyebrowMovement</th>\n",
       "      <th>Frown</th>\n",
       "      <th>Raise</th>\n",
       "      <th>OtherEyeMovements</th>\n",
       "      <th>Close-R</th>\n",
       "      <th>X-Open</th>\n",
       "      <th>...</th>\n",
       "      <th>waggle</th>\n",
       "      <th>forwardHead</th>\n",
       "      <th>downRHead</th>\n",
       "      <th>singleHand</th>\n",
       "      <th>bothHands</th>\n",
       "      <th>otherHandM</th>\n",
       "      <th>complexHandM</th>\n",
       "      <th>sidewaysHand</th>\n",
       "      <th>downHands</th>\n",
       "      <th>upHands</th>\n",
       "    </tr>\n",
       "  </thead>\n",
       "  <tbody>\n",
       "    <tr>\n",
       "      <th>0</th>\n",
       "      <td>1</td>\n",
       "      <td>0</td>\n",
       "      <td>0</td>\n",
       "      <td>0</td>\n",
       "      <td>1</td>\n",
       "      <td>0</td>\n",
       "      <td>0</td>\n",
       "      <td>1</td>\n",
       "      <td>0</td>\n",
       "      <td>0</td>\n",
       "      <td>...</td>\n",
       "      <td>0</td>\n",
       "      <td>0</td>\n",
       "      <td>0</td>\n",
       "      <td>0</td>\n",
       "      <td>0</td>\n",
       "      <td>1</td>\n",
       "      <td>0</td>\n",
       "      <td>0</td>\n",
       "      <td>0</td>\n",
       "      <td>0</td>\n",
       "    </tr>\n",
       "    <tr>\n",
       "      <th>1</th>\n",
       "      <td>1</td>\n",
       "      <td>0</td>\n",
       "      <td>0</td>\n",
       "      <td>0</td>\n",
       "      <td>0</td>\n",
       "      <td>1</td>\n",
       "      <td>0</td>\n",
       "      <td>1</td>\n",
       "      <td>0</td>\n",
       "      <td>0</td>\n",
       "      <td>...</td>\n",
       "      <td>0</td>\n",
       "      <td>0</td>\n",
       "      <td>0</td>\n",
       "      <td>0</td>\n",
       "      <td>1</td>\n",
       "      <td>0</td>\n",
       "      <td>1</td>\n",
       "      <td>0</td>\n",
       "      <td>0</td>\n",
       "      <td>0</td>\n",
       "    </tr>\n",
       "    <tr>\n",
       "      <th>2</th>\n",
       "      <td>1</td>\n",
       "      <td>0</td>\n",
       "      <td>0</td>\n",
       "      <td>0</td>\n",
       "      <td>0</td>\n",
       "      <td>1</td>\n",
       "      <td>0</td>\n",
       "      <td>0</td>\n",
       "      <td>1</td>\n",
       "      <td>0</td>\n",
       "      <td>...</td>\n",
       "      <td>0</td>\n",
       "      <td>0</td>\n",
       "      <td>0</td>\n",
       "      <td>0</td>\n",
       "      <td>0</td>\n",
       "      <td>1</td>\n",
       "      <td>0</td>\n",
       "      <td>0</td>\n",
       "      <td>0</td>\n",
       "      <td>0</td>\n",
       "    </tr>\n",
       "    <tr>\n",
       "      <th>3</th>\n",
       "      <td>1</td>\n",
       "      <td>0</td>\n",
       "      <td>0</td>\n",
       "      <td>0</td>\n",
       "      <td>1</td>\n",
       "      <td>0</td>\n",
       "      <td>0</td>\n",
       "      <td>1</td>\n",
       "      <td>0</td>\n",
       "      <td>0</td>\n",
       "      <td>...</td>\n",
       "      <td>0</td>\n",
       "      <td>0</td>\n",
       "      <td>1</td>\n",
       "      <td>0</td>\n",
       "      <td>0</td>\n",
       "      <td>1</td>\n",
       "      <td>0</td>\n",
       "      <td>0</td>\n",
       "      <td>0</td>\n",
       "      <td>0</td>\n",
       "    </tr>\n",
       "    <tr>\n",
       "      <th>4</th>\n",
       "      <td>1</td>\n",
       "      <td>0</td>\n",
       "      <td>0</td>\n",
       "      <td>0</td>\n",
       "      <td>0</td>\n",
       "      <td>1</td>\n",
       "      <td>0</td>\n",
       "      <td>1</td>\n",
       "      <td>0</td>\n",
       "      <td>0</td>\n",
       "      <td>...</td>\n",
       "      <td>0</td>\n",
       "      <td>0</td>\n",
       "      <td>0</td>\n",
       "      <td>1</td>\n",
       "      <td>0</td>\n",
       "      <td>0</td>\n",
       "      <td>0</td>\n",
       "      <td>0</td>\n",
       "      <td>0</td>\n",
       "      <td>0</td>\n",
       "    </tr>\n",
       "  </tbody>\n",
       "</table>\n",
       "<p>5 rows × 39 columns</p>\n",
       "</div>"
      ],
      "text/plain": [
       "   OtherGestures  Smile  Laugh  Scowl  otherEyebrowMovement  Frown  Raise  \\\n",
       "0              1      0      0      0                     1      0      0   \n",
       "1              1      0      0      0                     0      1      0   \n",
       "2              1      0      0      0                     0      1      0   \n",
       "3              1      0      0      0                     1      0      0   \n",
       "4              1      0      0      0                     0      1      0   \n",
       "\n",
       "   OtherEyeMovements  Close-R  X-Open  ...  waggle  forwardHead  downRHead  \\\n",
       "0                  1        0       0  ...       0            0          0   \n",
       "1                  1        0       0  ...       0            0          0   \n",
       "2                  0        1       0  ...       0            0          0   \n",
       "3                  1        0       0  ...       0            0          1   \n",
       "4                  1        0       0  ...       0            0          0   \n",
       "\n",
       "   singleHand  bothHands  otherHandM  complexHandM  sidewaysHand  downHands  \\\n",
       "0           0          0           1             0             0          0   \n",
       "1           0          1           0             1             0          0   \n",
       "2           0          0           1             0             0          0   \n",
       "3           0          0           1             0             0          0   \n",
       "4           1          0           0             0             0          0   \n",
       "\n",
       "   upHands  \n",
       "0        0  \n",
       "1        0  \n",
       "2        0  \n",
       "3        0  \n",
       "4        0  \n",
       "\n",
       "[5 rows x 39 columns]"
      ]
     },
     "execution_count": 10,
     "metadata": {},
     "output_type": "execute_result"
    }
   ],
   "source": [
    "X.head()"
   ]
  },
  {
   "cell_type": "code",
   "execution_count": 14,
   "metadata": {},
   "outputs": [
    {
     "data": {
      "text/plain": [
       "0    1\n",
       "1    1\n",
       "2    1\n",
       "3    1\n",
       "4    1\n",
       "Name: class, dtype: int64"
      ]
     },
     "execution_count": 14,
     "metadata": {},
     "output_type": "execute_result"
    }
   ],
   "source": [
    "y.head()"
   ]
  },
  {
   "cell_type": "code",
   "execution_count": 227,
   "metadata": {},
   "outputs": [],
   "source": [
    "indices = np.arange(len(X))\n",
    "np.random.shuffle(indices)\n",
    "\n",
    "trn_indices = indices[:100]\n",
    "val_indices = indices[100:]"
   ]
  },
  {
   "cell_type": "code",
   "execution_count": 228,
   "metadata": {},
   "outputs": [],
   "source": [
    "X_trn = X.iloc[trn_indices]\n",
    "X_val = X.iloc[val_indices]\n",
    "y_trn = y.iloc[trn_indices]\n",
    "y_val = y.iloc[val_indices]\n",
    "\n",
    "dat_trn = lgb.Dataset(X_trn, label=y_trn)\n",
    "dat_val = lgb.Dataset(X_val, label=y_val)"
   ]
  },
  {
   "cell_type": "code",
   "execution_count": 262,
   "metadata": {},
   "outputs": [
    {
     "name": "stdout",
     "output_type": "stream",
     "text": [
      "Training until validation scores don't improve for 100 rounds.\n",
      "[100]\ttraining's binary_logloss: 0.479772\tvalid_1's binary_logloss: 0.538795\n",
      "[200]\ttraining's binary_logloss: 0.426811\tvalid_1's binary_logloss: 0.49177\n",
      "Early stopping, best iteration is:\n",
      "[185]\ttraining's binary_logloss: 0.432452\tvalid_1's binary_logloss: 0.476792\n"
     ]
    }
   ],
   "source": [
    "params = {\n",
    "    'learning_rate': 0.05,\n",
    "#     'max_depth': -1, # smaller max depth for less overfitting\n",
    "    'num_leaves': 2, # smaller num leaves for less overfitting\n",
    "#     'min_data_in_leaf': 1, # larger min data for less overfitting\n",
    "#     'max_bin': 2, # smaller max bin for less overfitting\n",
    "    'num_iteration': 1000,\n",
    "#     'feature_fraction': 0.4, # smaller for less overfitting\n",
    "    'bagging_fraction': 0.7, # smaller for less overfitting\n",
    "    'bagging_freq': 5, # smaller for less overfitting\n",
    "#     'lambda_l1': .01, # larger for less overfitting\n",
    "#     'lambda_l2': .02, # larger for less overfitting\n",
    "    'objective': 'binary',\n",
    "}\n",
    "\n",
    "model = lgb.train(params, dat_trn, valid_sets=[dat_trn, dat_val], verbose_eval=100, early_stopping_rounds=100)"
   ]
  },
  {
   "cell_type": "code",
   "execution_count": 263,
   "metadata": {},
   "outputs": [],
   "source": [
    "y_val_hat = model.predict(X_val)"
   ]
  },
  {
   "cell_type": "code",
   "execution_count": 264,
   "metadata": {},
   "outputs": [
    {
     "data": {
      "text/plain": [
       "array([0.68493514, 0.69795885, 0.34361657, 0.59493365, 0.50598622,\n",
       "       0.96993056, 0.7376434 , 0.42923476, 0.19952578, 0.21841405,\n",
       "       0.64196123, 0.29837696, 0.58943416, 0.57579002, 0.2748535 ,\n",
       "       0.61789136, 0.96626833, 0.3596406 , 0.85286263, 0.46616205,\n",
       "       0.65260131])"
      ]
     },
     "execution_count": 264,
     "metadata": {},
     "output_type": "execute_result"
    }
   ],
   "source": [
    "y_val_hat"
   ]
  },
  {
   "cell_type": "code",
   "execution_count": 265,
   "metadata": {},
   "outputs": [
    {
     "data": {
      "text/plain": [
       "0.7619047619047619"
      ]
     },
     "execution_count": 265,
     "metadata": {},
     "output_type": "execute_result"
    }
   ],
   "source": [
    "(1-sum(abs(y_val_hat.round() - y_val)) / len(y_val))"
   ]
  },
  {
   "cell_type": "code",
   "execution_count": 266,
   "metadata": {},
   "outputs": [
    {
     "data": {
      "text/plain": [
       "array([1., 1., 0., 1., 1., 1., 1., 0., 0., 0., 1., 0., 0., 0., 0., 0., 1.,\n",
       "       0., 1., 1., 0.])"
      ]
     },
     "execution_count": 266,
     "metadata": {},
     "output_type": "execute_result"
    }
   ],
   "source": [
    "y_val.values.astype(np.float)"
   ]
  },
  {
   "cell_type": "code",
   "execution_count": 267,
   "metadata": {},
   "outputs": [
    {
     "data": {
      "text/plain": [
       "array([1., 1., 0., 1., 1., 1., 1., 0., 0., 0., 1., 0., 1., 1., 0., 1., 1.,\n",
       "       0., 1., 0., 1.])"
      ]
     },
     "execution_count": 267,
     "metadata": {},
     "output_type": "execute_result"
    }
   ],
   "source": [
    "y_val_hat.round()"
   ]
  },
  {
   "cell_type": "code",
   "execution_count": null,
   "metadata": {},
   "outputs": [],
   "source": []
  }
 ],
 "metadata": {
  "kernelspec": {
   "display_name": "Python 3",
   "language": "python",
   "name": "python3"
  },
  "language_info": {
   "codemirror_mode": {
    "name": "ipython",
    "version": 3
   },
   "file_extension": ".py",
   "mimetype": "text/x-python",
   "name": "python",
   "nbconvert_exporter": "python",
   "pygments_lexer": "ipython3",
   "version": "3.6.8"
  }
 },
 "nbformat": 4,
 "nbformat_minor": 2
}
